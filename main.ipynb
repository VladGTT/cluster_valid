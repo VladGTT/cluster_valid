{
 "cells": [
  {
   "cell_type": "code",
   "execution_count": 1,
   "id": "fc88756a-6621-419a-bd5b-77936d6debc7",
   "metadata": {},
   "outputs": [],
   "source": [
    "from sklearn.datasets import make_blobs\n",
    "from sklearn.cluster import KMeans\n",
    "from sklearn.metrics import silhouette_score\n",
    "import matplotlib.pyplot as plt\n",
    "import numpy as np\n",
    "\n",
    "import time\n",
    "import rust_ext as rs"
   ]
  },
  {
   "cell_type": "code",
   "execution_count": 2,
   "id": "48140c79-85d8-42bb-b86a-b6fd275c3244",
   "metadata": {},
   "outputs": [
    {
     "data": {
      "text/plain": [
       "array([[0., 1.],\n",
       "       [1., 1.],\n",
       "       [1., 2.],\n",
       "       [3., 4.],\n",
       "       [4., 5.],\n",
       "       [5., 4.],\n",
       "       [6., 0.],\n",
       "       [6., 1.],\n",
       "       [7., 1.]])"
      ]
     },
     "execution_count": 2,
     "metadata": {},
     "output_type": "execute_result"
    }
   ],
   "source": [
    "# X, _ = make_blobs(random_state=42,n_samples=6)\n",
    "X = np.array([\n",
    "    [0.0,1.0],\n",
    "    [1.0,1.0],\n",
    "    [1.0,2.0],\n",
    "    \n",
    "    [3.0,4.0],\n",
    "    [4.0,5.0],\n",
    "    [5.0,4.0],\n",
    "\n",
    "    [6.0,0.0],\n",
    "    [6.0,1.0],\n",
    "    [7.0,1.0],\n",
    "])\n",
    "X"
   ]
  },
  {
   "cell_type": "code",
   "execution_count": 3,
   "id": "794385dc-3bab-4305-a1c0-7ceb157994ff",
   "metadata": {},
   "outputs": [
    {
     "data": {
      "text/plain": [
       "<matplotlib.collections.PathCollection at 0x784b4824a0f0>"
      ]
     },
     "execution_count": 3,
     "metadata": {},
     "output_type": "execute_result"
    },
    {
     "data": {
      "image/png": "[encoded data removed]",
      "text/plain": [
       "<Figure size 640x480 with 1 Axes>"
      ]
     },
     "metadata": {},
     "output_type": "display_data"
    }
   ],
   "source": [
    "plt.scatter(X[:,0],X[:,1])"
   ]
  },
  {
   "cell_type": "code",
   "execution_count": 4,
   "id": "aae53196-b29b-48f0-a5d4-7c4c56faef95",
   "metadata": {},
   "outputs": [
    {
     "data": {
      "text/plain": [
       "array([2, 2, 2, 0, 0, 0, 1, 1, 1], dtype=int32)"
      ]
     },
     "execution_count": 4,
     "metadata": {},
     "output_type": "execute_result"
    }
   ],
   "source": [
    "kmeans = KMeans(n_clusters=3, random_state=42)\n",
    "predicted = kmeans.fit_predict(X)\n",
    "predicted"
   ]
  },
  {
   "cell_type": "code",
   "execution_count": 5,
   "id": "2eb86f41-93d1-494d-8ae3-27ffaf910d50",
   "metadata": {},
   "outputs": [
    {
     "name": "stdout",
     "output_type": "stream",
     "text": [
      "0.001695871353149414\n"
     ]
    },
    {
     "data": {
      "text/plain": [
       "np.float64(0.6924158715303145)"
      ]
     },
     "execution_count": 5,
     "metadata": {},
     "output_type": "execute_result"
    }
   ],
   "source": [
    "start = time.time()\n",
    "res = silhouette_score(X, predicted)\n",
    "end = time.time()\n",
    "print(end - start)\n",
    "res\n",
    "\n",
    "\n"
   ]
  },
  {
   "cell_type": "code",
   "execution_count": 6,
   "id": "c283c4e8-08a0-47e0-b48d-40d79083f03e",
   "metadata": {},
   "outputs": [
    {
     "name": "stdout",
     "output_type": "stream",
     "text": [
      "0.0006754398345947266\n"
     ]
    },
    {
     "data": {
      "text/plain": [
       "0.6924158715303145"
      ]
     },
     "execution_count": 6,
     "metadata": {},
     "output_type": "execute_result"
    }
   ],
   "source": [
    "start = time.time()\n",
    "res = rs.silhouette_score(X,predicted)\n",
    "end = time.time()\n",
    "print(end - start)\n",
    "res"
   ]
  }
 ],
 "metadata": {
  "kernelspec": {
   "display_name": "Python 3 (ipykernel)",
   "language": "python",
   "name": "python3"
  },
  "language_info": {
   "codemirror_mode": {
    "name": "ipython",
    "version": 3
   },
   "file_extension": ".py",
   "mimetype": "text/x-python",
   "name": "python",
   "nbconvert_exporter": "python",
   "pygments_lexer": "ipython3",
   "version": "3.12.4"
  }
 },
 "nbformat": 4,
 "nbformat_minor": 5
}
