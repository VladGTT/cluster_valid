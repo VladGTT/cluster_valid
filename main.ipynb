{
 "cells": [
  {
   "cell_type": "code",
   "execution_count": 11,
   "id": "fc88756a-6621-419a-bd5b-77936d6debc7",
   "metadata": {},
   "outputs": [],
   "source": [
    "from sklearn.datasets import make_blobs\n",
    "from sklearn.cluster import KMeans\n",
    "from sklearn.metrics import silhouette_score,davies_bouldin_score\n",
    "import matplotlib.pyplot as plt\n",
    "import numpy as np\n",
    "\n",
    "import time\n",
    "import rust_ext as rs"
   ]
  },
  {
   "cell_type": "code",
   "execution_count": 12,
   "id": "48140c79-85d8-42bb-b86a-b6fd275c3244",
   "metadata": {},
   "outputs": [],
   "source": [
    "X, _ = make_blobs(random_state=42,n_samples=9)\n"
   ]
  },
  {
   "cell_type": "code",
   "execution_count": 13,
   "id": "794385dc-3bab-4305-a1c0-7ceb157994ff",
   "metadata": {},
   "outputs": [
    {
     "data": {
      "text/plain": [
       "<matplotlib.collections.PathCollection at 0x73420e60c200>"
      ]
     },
     "execution_count": 13,
     "metadata": {},
     "output_type": "execute_result"
    },
    {
     "data": {
      "image/png": "[encoded data removed]",
      "text/plain": [
       "<Figure size 640x480 with 1 Axes>"
      ]
     },
     "metadata": {},
     "output_type": "display_data"
    }
   ],
   "source": [
    "plt.scatter(X[:,0],X[:,1])"
   ]
  },
  {
   "cell_type": "code",
   "execution_count": 14,
   "id": "aae53196-b29b-48f0-a5d4-7c4c56faef95",
   "metadata": {},
   "outputs": [
    {
     "data": {
      "text/plain": [
       "array([2, 0, 2, 0, 1, 1, 2, 0, 1], dtype=int32)"
      ]
     },
     "execution_count": 14,
     "metadata": {},
     "output_type": "execute_result"
    }
   ],
   "source": [
    "kmeans = KMeans(n_clusters=3, random_state=42)\n",
    "predicted = kmeans.fit_predict(X)\n",
    "predicted"
   ]
  },
  {
   "cell_type": "code",
   "execution_count": 15,
   "id": "75cf9383-32dc-438c-bc8f-0594281249cc",
   "metadata": {},
   "outputs": [],
   "source": [
    "### Silhouette score"
   ]
  },
  {
   "cell_type": "code",
   "execution_count": 16,
   "id": "2eb86f41-93d1-494d-8ae3-27ffaf910d50",
   "metadata": {},
   "outputs": [
    {
     "name": "stdout",
     "output_type": "stream",
     "text": [
      "0.0024459362030029297\n"
     ]
    },
    {
     "data": {
      "text/plain": [
       "np.float64(0.829504827956206)"
      ]
     },
     "execution_count": 16,
     "metadata": {},
     "output_type": "execute_result"
    }
   ],
   "source": [
    "start = time.time()\n",
    "res = silhouette_score(X, predicted)\n",
    "end = time.time()\n",
    "print(end - start)\n",
    "res\n",
    "\n",
    "\n"
   ]
  },
  {
   "cell_type": "code",
   "execution_count": 17,
   "id": "c283c4e8-08a0-47e0-b48d-40d79083f03e",
   "metadata": {},
   "outputs": [
    {
     "name": "stdout",
     "output_type": "stream",
     "text": [
      "0.0005290508270263672\n"
     ]
    },
    {
     "data": {
      "text/plain": [
       "0.829504827956206"
      ]
     },
     "execution_count": 17,
     "metadata": {},
     "output_type": "execute_result"
    }
   ],
   "source": [
    "start = time.time()\n",
    "res = rs.silhouette_score(X,predicted)\n",
    "end = time.time()\n",
    "print(end - start)\n",
    "res"
   ]
  },
  {
   "cell_type": "code",
   "execution_count": 18,
   "id": "8c38dae5-275c-4651-a38b-5a0480b9929c",
   "metadata": {},
   "outputs": [
    {
     "name": "stdout",
     "output_type": "stream",
     "text": [
      "0.0022401809692382812\n"
     ]
    },
    {
     "data": {
      "text/plain": [
       "np.float64(0.829504827956206)"
      ]
     },
     "execution_count": 18,
     "metadata": {},
     "output_type": "execute_result"
    }
   ],
   "source": [
    "start = time.time()\n",
    "res = silhouette_score(X, predicted)\n",
    "end = time.time()\n",
    "print(end - start)\n",
    "res"
   ]
  },
  {
   "cell_type": "code",
   "execution_count": 9,
   "id": "314b3f35-e300-49bb-a0d1-9155fa06fc00",
   "metadata": {},
   "outputs": [],
   "source": [
    "### Davies-Bouldvin score"
   ]
  },
  {
   "cell_type": "code",
   "execution_count": 19,
   "id": "8d175151-ddb7-4e50-8363-957a0643239d",
   "metadata": {},
   "outputs": [
    {
     "name": "stdout",
     "output_type": "stream",
     "text": [
      "0.004254579544067383\n"
     ]
    },
    {
     "data": {
      "text/plain": [
       "np.float64(0.2018248923584154)"
      ]
     },
     "execution_count": 19,
     "metadata": {},
     "output_type": "execute_result"
    }
   ],
   "source": [
    "start = time.time()\n",
    "res = davies_bouldin_score(X, predicted)\n",
    "end = time.time()\n",
    "print(end - start)\n",
    "res"
   ]
  }
 ],
 "metadata": {
  "kernelspec": {
   "display_name": "Python 3 (ipykernel)",
   "language": "python",
   "name": "python3"
  },
  "language_info": {
   "codemirror_mode": {
    "name": "ipython",
    "version": 3
   },
   "file_extension": ".py",
   "mimetype": "text/x-python",
   "name": "python",
   "nbconvert_exporter": "python",
   "pygments_lexer": "ipython3",
   "version": "3.12.4"
  }
 },
 "nbformat": 4,
 "nbformat_minor": 5
}
