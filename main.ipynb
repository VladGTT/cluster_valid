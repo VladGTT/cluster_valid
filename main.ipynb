{
 "cells": [
  {
   "cell_type": "code",
   "execution_count": 1,
   "id": "fc88756a-6621-419a-bd5b-77936d6debc7",
   "metadata": {},
   "outputs": [],
   "source": [
    "from sklearn.datasets import make_blobs\n",
    "from sklearn.cluster import KMeans\n",
    "from sklearn.metrics import silhouette_score,davies_bouldin_score\n",
    "import matplotlib.pyplot as plt\n",
    "import numpy as np\n",
    "\n",
    "import time\n",
    "import rust_ext as rs"
   ]
  },
  {
   "cell_type": "code",
   "execution_count": 2,
   "id": "48140c79-85d8-42bb-b86a-b6fd275c3244",
   "metadata": {},
   "outputs": [],
   "source": [
    "X, _ = make_blobs(random_state=42,n_samples=9)\n"
   ]
  },
  {
   "cell_type": "code",
   "execution_count": 3,
   "id": "794385dc-3bab-4305-a1c0-7ceb157994ff",
   "metadata": {},
   "outputs": [
    {
     "data": {
      "text/plain": [
       "<matplotlib.collections.PathCollection at 0x724915bc90>"
      ]
     },
     "execution_count": 3,
     "metadata": {},
     "output_type": "execute_result"
    },
    {
     "data": {
      "image/png": "[encoded data removed]",
      "text/plain": [
       "<Figure size 640x480 with 1 Axes>"
      ]
     },
     "metadata": {},
     "output_type": "display_data"
    }
   ],
   "source": [
    "plt.scatter(X[:,0],X[:,1])"
   ]
  },
  {
   "cell_type": "code",
   "execution_count": 4,
   "id": "aae53196-b29b-48f0-a5d4-7c4c56faef95",
   "metadata": {},
   "outputs": [
    {
     "data": {
      "text/plain": [
       "array([2, 0, 2, 0, 1, 1, 2, 0, 1], dtype=int32)"
      ]
     },
     "execution_count": 4,
     "metadata": {},
     "output_type": "execute_result"
    }
   ],
   "source": [
    "kmeans = KMeans(n_clusters=3, random_state=42)\n",
    "predicted = kmeans.fit_predict(X)\n",
    "predicted"
   ]
  },
  {
   "cell_type": "code",
   "execution_count": 5,
   "id": "75cf9383-32dc-438c-bc8f-0594281249cc",
   "metadata": {},
   "outputs": [],
   "source": [
    "### Silhouette score"
   ]
  },
  {
   "cell_type": "code",
   "execution_count": 6,
   "id": "2eb86f41-93d1-494d-8ae3-27ffaf910d50",
   "metadata": {},
   "outputs": [
    {
     "name": "stdout",
     "output_type": "stream",
     "text": [
      "0.005105257034301758\n"
     ]
    },
    {
     "data": {
      "text/plain": [
       "0.8295048279562058"
      ]
     },
     "execution_count": 6,
     "metadata": {},
     "output_type": "execute_result"
    }
   ],
   "source": [
    "start = time.time()\n",
    "res = silhouette_score(X, predicted)\n",
    "end = time.time()\n",
    "print(end - start)\n",
    "res\n",
    "\n",
    "\n"
   ]
  },
  {
   "cell_type": "code",
   "execution_count": 7,
   "id": "c283c4e8-08a0-47e0-b48d-40d79083f03e",
   "metadata": {},
   "outputs": [
    {
     "name": "stdout",
     "output_type": "stream",
     "text": [
      "0.0018641948699951172\n"
     ]
    },
    {
     "data": {
      "text/plain": [
       "0.829504827956206"
      ]
     },
     "execution_count": 7,
     "metadata": {},
     "output_type": "execute_result"
    }
   ],
   "source": [
    "start = time.time()\n",
    "res = rs.silhouette_score(X,predicted)\n",
    "end = time.time()\n",
    "print(end - start)\n",
    "res"
   ]
  },
  {
   "cell_type": "code",
   "execution_count": 8,
   "id": "8c38dae5-275c-4651-a38b-5a0480b9929c",
   "metadata": {},
   "outputs": [
    {
     "name": "stdout",
     "output_type": "stream",
     "text": [
      "0.0062596797943115234\n"
     ]
    },
    {
     "data": {
      "text/plain": [
       "0.8295048279562058"
      ]
     },
     "execution_count": 8,
     "metadata": {},
     "output_type": "execute_result"
    }
   ],
   "source": [
    "start = time.time()\n",
    "res = silhouette_score(X, predicted)\n",
    "end = time.time()\n",
    "print(end - start)\n",
    "res"
   ]
  },
  {
   "cell_type": "code",
   "execution_count": 9,
   "id": "314b3f35-e300-49bb-a0d1-9155fa06fc00",
   "metadata": {},
   "outputs": [],
   "source": [
    "### Davies-Bouldvin score"
   ]
  },
  {
   "cell_type": "code",
   "execution_count": 10,
   "id": "8d175151-ddb7-4e50-8363-957a0643239d",
   "metadata": {},
   "outputs": [
    {
     "name": "stdout",
     "output_type": "stream",
     "text": [
      "0.0060787200927734375\n"
     ]
    },
    {
     "data": {
      "text/plain": [
       "0.20182489235841547"
      ]
     },
     "execution_count": 10,
     "metadata": {},
     "output_type": "execute_result"
    }
   ],
   "source": [
    "start = time.time()\n",
    "res = davies_bouldin_score(X, predicted)\n",
    "end = time.time()\n",
    "print(end - start)\n",
    "res"
   ]
  },
  {
   "cell_type": "code",
   "execution_count": 11,
   "id": "82011a70-fd45-4055-bb7f-78182be583b1",
   "metadata": {},
   "outputs": [
    {
     "name": "stdout",
     "output_type": "stream",
     "text": [
      "0.001680135726928711\n"
     ]
    },
    {
     "data": {
      "text/plain": [
       "0.0743185417147905"
      ]
     },
     "execution_count": 11,
     "metadata": {},
     "output_type": "execute_result"
    }
   ],
   "source": [
    "start = time.time()\n",
    "res = rs.davies_bouldin_score(X, predicted)\n",
    "end = time.time()\n",
    "print(end - start)\n",
    "res"
   ]
  },
  {
   "cell_type": "code",
   "execution_count": null,
   "id": "7dd0b1dc-a2c1-498a-985b-31062d51e5b7",
   "metadata": {},
   "outputs": [],
   "source": []
  }
 ],
 "metadata": {
  "kernelspec": {
   "display_name": "Python 3 (ipykernel)",
   "language": "python",
   "name": "python3"
  },
  "language_info": {
   "codemirror_mode": {
    "name": "ipython",
    "version": 3
   },
   "file_extension": ".py",
   "mimetype": "text/x-python",
   "name": "python",
   "nbconvert_exporter": "python",
   "pygments_lexer": "ipython3",
   "version": "3.11.9"
  }
 },
 "nbformat": 4,
 "nbformat_minor": 5
}
